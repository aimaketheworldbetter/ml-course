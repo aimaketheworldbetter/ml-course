{
 "cells": [
  {
   "cell_type": "markdown",
   "metadata": {},
   "source": [
    "Lesson 6: Prepare For Modeling by Pre-Processing Data\n",
    "\n",
    "Your raw data may not be setup to be in the best shape for modeling.\n",
    "\n",
    "Sometimes you need to preprocess your data in order to best present the inherent structure of the problem in your data to the modeling algorithms. In today’s lesson, you will use the pre-processing capabilities provided by the scikit-learn.\n",
    "\n",
    "The scikit-learn library provides two standard idioms for transforming data. Each transform is useful in different circumstances: Fit and Multiple Transform and Combined Fit-And-Transform.\n",
    "\n",
    "There are many techniques that you can use to prepare your data for modeling. For example, try out some of the following\n",
    "\n",
    "    Standardize numerical data (e.g. mean of 0 and standard deviation of 1) using the scale and center options.\n",
    "    Normalize numerical data (e.g. to a range of 0-1) using the range option.\n",
    "    Explore more advanced feature engineering such as Binarizing.\n",
    "\n",
    "For example, the snippet below loads the Pima Indians onset of diabetes dataset, calculates the parameters needed to standardize the data, then creates a standardized copy of the input data."
   ]
  },
  {
   "cell_type": "code",
   "execution_count": 1,
   "metadata": {},
   "outputs": [],
   "source": [
    "from sklearn.preprocessing import StandardScaler\n",
    "import pandas as pd\n",
    "import numpy as np\n",
    "import feather"
   ]
  },
  {
   "cell_type": "code",
   "execution_count": 2,
   "metadata": {},
   "outputs": [],
   "source": [
    "#url=\"https://raw.githubusercontent.com/jbrownlee/Datasets/master/pima-indians-diabetes.data.csv\"\n",
    "\n",
    "#names=['preg','plas','pres','skin','test','mass','pedi','age','class']\n",
    "\n",
    "#data=pd.read_csv(url,names=names)\n",
    "data = feather.read_dataframe('diabetes')"
   ]
  },
  {
   "cell_type": "code",
   "execution_count": 12,
   "metadata": {},
   "outputs": [],
   "source": [
    "array=data.values\n",
    "X=array[:,0:8]\n",
    "Y=array[:,8]"
   ]
  },
  {
   "cell_type": "code",
   "execution_count": 13,
   "metadata": {},
   "outputs": [],
   "source": [
    "scaler= StandardScaler().fit(X)\n",
    "rescaledX=scaler.transform(X)"
   ]
  },
  {
   "cell_type": "code",
   "execution_count": 14,
   "metadata": {},
   "outputs": [],
   "source": [
    "np.set_printoptions(precision=4)"
   ]
  },
  {
   "cell_type": "code",
   "execution_count": 15,
   "metadata": {},
   "outputs": [
    {
     "data": {
      "text/plain": [
       "array([[ 0.6399,  0.8483,  0.1496,  0.9073, -0.6929,  0.204 ,  0.4685,\n",
       "         1.426 ],\n",
       "       [-0.8449, -1.1234, -0.1605,  0.5309, -0.6929, -0.6844, -0.3651,\n",
       "        -0.1907],\n",
       "       [ 1.2339,  1.9437, -0.2639, -1.2882, -0.6929, -1.1033,  0.6044,\n",
       "        -0.1056],\n",
       "       [-0.8449, -0.9982, -0.1605,  0.1545,  0.1233, -0.494 , -0.9208,\n",
       "        -1.0415],\n",
       "       [-1.1419,  0.5041, -1.5047,  0.9073,  0.7658,  1.4097,  5.4849,\n",
       "        -0.0205]])"
      ]
     },
     "execution_count": 15,
     "metadata": {},
     "output_type": "execute_result"
    }
   ],
   "source": [
    "rescaledX[0:5,:]"
   ]
  },
  {
   "cell_type": "code",
   "execution_count": 11,
   "metadata": {},
   "outputs": [
    {
     "data": {
      "text/plain": [
       "(768, 8)"
      ]
     },
     "execution_count": 11,
     "metadata": {},
     "output_type": "execute_result"
    }
   ],
   "source": [
    "X.shape"
   ]
  },
  {
   "cell_type": "code",
   "execution_count": null,
   "metadata": {},
   "outputs": [],
   "source": []
  }
 ],
 "metadata": {
  "kernelspec": {
   "display_name": "Python 3",
   "language": "python",
   "name": "python3"
  },
  "language_info": {
   "codemirror_mode": {
    "name": "ipython",
    "version": 3
   },
   "file_extension": ".py",
   "mimetype": "text/x-python",
   "name": "python",
   "nbconvert_exporter": "python",
   "pygments_lexer": "ipython3",
   "version": "3.7.0"
  }
 },
 "nbformat": 4,
 "nbformat_minor": 2
}
